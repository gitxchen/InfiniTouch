{
 "cells": [
  {
   "cell_type": "markdown",
   "metadata": {},
   "source": [
    "# Preprocessing OptiTrack Data\n",
    "This script reads the exported CSV takes and transform the marker coordinates into the coordinate system of the full-touch smartphone. In case an exported version already exists, the take is skipped."
   ]
  },
  {
   "cell_type": "code",
   "execution_count": null,
   "metadata": {
    "collapsed": true
   },
   "outputs": [],
   "source": [
    "import numpy as np\n",
    "import pandas as pd\n",
    "import math\n",
    "import matplotlib.pyplot as plt\n",
    "from matplotlib import cm\n",
    "from mpl_toolkits.mplot3d import Axes3D\n",
    "from mpl_toolkits.mplot3d.art3d import Poly3DCollection\n",
    "from datetime import datetime\n",
    "import time\n",
    "import os\n",
    "from IPython import display\n",
    "\n",
    "%matplotlib inline\n",
    "\n",
    "%run py/constants.py\n",
    "%run py/take_processing_methods.py\n",
    "%run py/marker_processing_methods.py\n",
    "%run py/heatmap_methods.py\n",
    "%run py/grasp_property_methods.py\n",
    "%run py/rasterization_methods.py\n",
    "%run py/labeling_names.py"
   ]
  },
  {
   "cell_type": "code",
   "execution_count": null,
   "metadata": {
    "collapsed": true
   },
   "outputs": [],
   "source": [
    "def read_take(take_file):\n",
    "    \"\"\"\n",
    "    Reads the given take file and returns it in pandas format. \n",
    "    RETURN: Pandas dataframe, recording start as datetime\n",
    "    \"\"\"\n",
    "    f_csv = open(take_file, 'r')\n",
    "    marker_names = []   \n",
    "    coordinates = [] \n",
    "    marker_type = []\n",
    "    time_string = \"\"\n",
    "\n",
    "    for i in range(0, 7):\n",
    "        line = f_csv.readline()\n",
    "\n",
    "        if i == 0:\n",
    "            time_string = line.split(',')[9]\n",
    "        if i == 3:\n",
    "            marker_names = line.split(\",\")\n",
    "        if i == 5:\n",
    "            marker_type = line.split(\",\")\n",
    "        if i == 6:\n",
    "            coordinates = line.split(\",\")\n",
    "    \n",
    "    # Create the list of unique marker names to pass to the read_csv function.\n",
    "    for i in range(0, len(marker_names)):\n",
    "        newname = None\n",
    "        for jname in joints:\n",
    "            if jname.lower() in marker_names[i].lower() and not (\"fka\" in marker_names[i].lower()):\n",
    "                newname = jname + \"_\" + str(coordinates[i])\n",
    "                marker_names[i] = newname.strip()\n",
    "        \n",
    "        if newname == None:\n",
    "            newname = marker_names[i] + \"_\" + str(coordinates[i])\n",
    "            marker_names[i] = newname.strip()\n",
    "            \n",
    "        if marker_type[i].strip() != \"Position\":\n",
    "            marker_names[i] = marker_names[i] + \"_\" + marker_type[i]\n",
    "                \n",
    "    marker_names[0] = 'Frame'\n",
    "    marker_names[1] = 'Time'\n",
    "    f_csv.close()\n",
    "    \n",
    "    # Importing one take (will be all takes later on)\n",
    "    df = pd.read_csv(take_file, skiprows=list(range(0,7)), names=marker_names)\n",
    "    df = df.set_index(df.Frame, drop=False)\n",
    "    \n",
    "    # retrieve datetime and fix 12AM error of OptiTrack Motive\n",
    "    dt = datetime.strptime(time_string, '%Y-%m-%d %I.%M.%S.%f %p')\n",
    "    if dt.hour == 0 and dt.strftime(\"%p\") == \"AM\":\n",
    "        dt = dt.replace(hour=12)\n",
    "    \n",
    "    return df, dt"
   ]
  },
  {
   "cell_type": "code",
   "execution_count": null,
   "metadata": {
    "collapsed": true
   },
   "outputs": [],
   "source": [
    "def get_transformed_marker(frame_index, marker_id, df, rot_matrices):\n",
    "    rot_matrix = rot_matrices[df.index.get_loc(frame_index)].T\n",
    "\n",
    "    rb_pivot =[df[df.columns[6]].ix[frame_index], df[df.columns[7]].ix[frame_index], df[df.columns[8]].ix[frame_index]]\n",
    "\n",
    "    marker = [df[marker_id + \"_X\"].ix[frame_index], df[marker_id + \"_Y\"].ix[frame_index], df[marker_id + \"_Z\"].ix[frame_index]]  \n",
    "    marker = inv_trans(marker, rb_pivot, rot_matrix)\n",
    "\n",
    "    return marker"
   ]
  },
  {
   "cell_type": "code",
   "execution_count": null,
   "metadata": {
    "collapsed": true
   },
   "outputs": [],
   "source": [
    "def quaternion_matrix(row):\n",
    "    \"\"\"\n",
    "    Converts a quaternion to a rotation matrix.\n",
    "    Source: http://fabiensanglard.net/doom3_documentation/37726-293748.pdf\n",
    "    RETURN: Rotation matrix as numpy array.\n",
    "    \"\"\"\n",
    "    x = row[rigid_body_name + '_X_Rotation']\n",
    "    y = row[rigid_body_name + '_Y_Rotation']\n",
    "    z = row[rigid_body_name + '_Z_Rotation']\n",
    "    w = row[rigid_body_name + '_W_Rotation']\n",
    "    \n",
    "    rot_matrix = [\n",
    "        1.0-2*y*y-2*z*z, 2.0*x*y+2*w*z, 2.0*x*z - 2*w*y,\n",
    "        2.0*x*y - 2*w*z, 1.0-2*x*x-2*z*z, 2.0*y*z+2*w*x,\n",
    "        2.0*x*z+2*w*y, 2.0*y*z-2*w*x, 1.0-2*x*x-2*y*y]\n",
    "    \n",
    "    return rot_matrix"
   ]
  },
  {
   "cell_type": "code",
   "execution_count": null,
   "metadata": {
    "collapsed": true
   },
   "outputs": [],
   "source": [
    "def inv_trans(p, pos, rot):\n",
    "    \"\"\"\n",
    "    Transform a marker into the rigid body coordinate system\n",
    "    \"\"\"\n",
    "    p = np.subtract(p, pos)\n",
    "    p = np.dot(p, rot.T)\n",
    "    p = [p[0], p[2], p[1]]\n",
    "    return p"
   ]
  },
  {
   "cell_type": "code",
   "execution_count": null,
   "metadata": {
    "collapsed": true
   },
   "outputs": [],
   "source": [
    "def trans(prow):\n",
    "    markers = [\"Thumb_Fn\", \"Thumb_DIP\", \"Thumb_PIP\", \"Index_Fn\", \"Index_DIP\", \"Index_PIP\", \"Middle_Fn\", \"Middle_DIP\", \"Middle_PIP\", \"Ring_Fn\", \"Ring_DIP\", \"Ring_PIP\", \"Little_Fn\", \"Little_DIP\", \"Little_PIP\"]\n",
    "    row = prow.copy(deep=True)\n",
    "    \n",
    "    # iterate over all rows\n",
    "    for m in markers:\n",
    "        x = row[m + \"_X\"]\n",
    "        y = row[m + \"_Y\"]\n",
    "        z = row[m + \"_Z\"]\n",
    "        \n",
    "        pivot = row['Pivot']\n",
    "        rot_matrix = row['RotationMatrix']\n",
    "        \n",
    "        if not math.isnan(x):\n",
    "            marker = [x, y, z]\n",
    "            marker = inv_trans(marker, pivot, rot_matrix)\n",
    "            \n",
    "            row[m + \"_X\"] = marker[0]\n",
    "            row[m + \"_Y\"] = marker[1]\n",
    "            row[m + \"_Z\"] = marker[2]\n",
    "            \n",
    "    return row"
   ]
  },
  {
   "cell_type": "code",
   "execution_count": null,
   "metadata": {
    "collapsed": true
   },
   "outputs": [],
   "source": [
    "def log(s):\n",
    "    with open(\"status_PY01_preprocessing.txt\", \"a\") as myfile:\n",
    "        myfile.write(\"[\" + str(datetime.now()) + \"] \" + s + \"\\n\")\n",
    "    print(\"[\" + str(datetime.now()) + \"] \" + s)"
   ]
  },
  {
   "cell_type": "code",
   "execution_count": null,
   "metadata": {},
   "outputs": [
    {
     "name": "stdout",
     "output_type": "stream",
     "text": [
      "[2018-02-22 18:07:38.358174] P8 is already available. Skipped.\n",
      "[2018-02-22 18:07:38.359182] P19 is already available. Skipped.\n",
      "[2018-02-22 18:07:38.359572] P14 is already available. Skipped.\n",
      "[2018-02-22 18:07:38.359886] P16 is already available. Skipped.\n",
      "[2018-02-22 18:07:38.360196] P22 is already available. Skipped.\n",
      "[2018-02-22 18:07:38.360504] P4 is already available. Skipped.\n",
      "[2018-02-22 18:07:38.360806] P13 is already available. Skipped.\n",
      "[2018-02-22 18:07:38.361124] Reading P18\n",
      "[2018-02-22 18:08:03.493666] Creating RotationMatrix\n",
      "[2018-02-22 18:10:44.385126] Applying transformation\n",
      "[2018-02-22 18:48:57.225237] P6 is already available. Skipped.\n",
      "[2018-02-22 18:48:57.230328] Reading P9\n",
      "[2018-02-22 18:49:19.178777] Creating RotationMatrix\n",
      "[2018-02-22 18:51:44.342974] Applying transformation\n"
     ]
    }
   ],
   "source": [
    "for filename in os.listdir(\"./data/optitrack/\"):\n",
    "    if filename.endswith(\".csv\"):\n",
    "        current_participant = filename.split(\".\")[0]\n",
    "        rigid_body_name = RIGID_BODY_NAMES[current_participant]\n",
    "        \n",
    "        if os.path.isfile(\"./data/transformed_optitrack/dfTransformed_\" + str(current_participant) + \".pkl\") :\n",
    "            log(current_participant + \" is already available. Skipped.\")\n",
    "            continue\n",
    "        \n",
    "        log(\"Reading \" + current_participant)\n",
    "        df, dt = read_take(\"./data/optitrack/\" + current_participant + \".csv\")\n",
    "        df['Time'] = ((df['Time'] + dt.timestamp()) * 1000)\n",
    "        \n",
    "        x = df[df.columns[2]]\n",
    "        y = df[df.columns[3]]\n",
    "        z = df[df.columns[4]]\n",
    "        w = df[df.columns[5]]\n",
    "\n",
    "        rot_matrix = np.array([\n",
    "            [1-2*y*y-2*z*z, 2*x*y+2*w*z, 2*x*z - 2*w*y],\n",
    "            [2*x*y - 2*w*z, 1-2*x*x-2*z*z, 2*y*z+2*w*x],\n",
    "            [2*x*z+2*w*y, 2*y*z-2*w*x, 1-2*x*x-2*y*y]])\n",
    "\n",
    "        angle = np.degrees(np.arccos(np.dot((rot_matrix[:,1,:].T), [0, 1, 0])))\n",
    "        adf = pd.DataFrame(angle)\n",
    "        df2 = adf[np.logical_not(adf[0].isnull())]\n",
    "        df3 = df2[df2[0] < df2[0].mean() + df2[0].std()*2]\n",
    "        dfFinal = df.iloc[df3.index]\n",
    "        \n",
    "        log(\"Creating RotationMatrix\")\n",
    "        dfFinal['RotationMatrix'] = dfFinal.apply(lambda row : quaternion_matrix(row), axis=1)\n",
    "        dfFinal.RotationMatrix = dfFinal.RotationMatrix.apply(lambda x : np.array(x).reshape(3,3))\n",
    "        dfFinal['Pivot'] = dfFinal.apply(lambda row : [row[rigid_body_name + '_X'], row[rigid_body_name + '_Y'], row[rigid_body_name + '_Z']], axis=1)\n",
    "        dfFinal['Pivot'] = dfFinal.Pivot.apply(lambda x : np.array(x))\n",
    "        \n",
    "        log(\"Applying transformation\")\n",
    "        dfTransformed = dfFinal.apply(lambda x : trans(x), axis=1)\n",
    "        dfTransformed.to_pickle(\"./data/transformed_optitrack/dfTransformed_\" + current_participant + \".pkl\")"
   ]
  }
 ],
 "metadata": {
  "kernelspec": {
   "display_name": "Python 3",
   "language": "python",
   "name": "python3"
  },
  "language_info": {
   "codemirror_mode": {
    "name": "ipython",
    "version": 3
   },
   "file_extension": ".py",
   "mimetype": "text/x-python",
   "name": "python",
   "nbconvert_exporter": "python",
   "pygments_lexer": "ipython3",
   "version": "3.6.1"
  }
 },
 "nbformat": 4,
 "nbformat_minor": 2
}
