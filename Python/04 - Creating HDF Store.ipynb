{
 "cells": [
  {
   "cell_type": "markdown",
   "metadata": {},
   "source": [
    "# Creating HDF store\n",
    "This script creates an HDF5 file based on the data from previous steps. The HDF5 file enables training on a large data set."
   ]
  },
  {
   "cell_type": "code",
   "execution_count": 1,
   "metadata": {
    "collapsed": true
   },
   "outputs": [],
   "source": [
    "import numpy as np\n",
    "import pandas as pd\n",
    "\n",
    "from sklearn.utils import shuffle\n",
    "\n",
    "import h5py\n",
    "from pathlib import Path\n",
    "\n",
    "from datetime import datetime\n",
    "import os\n",
    "import re\n",
    "\n",
    "from IPython import display\n",
    "import math\n",
    "from skimage import measure\n",
    "\n",
    "import matplotlib.pyplot as plt\n",
    "%matplotlib inline"
   ]
  },
  {
   "cell_type": "code",
   "execution_count": 2,
   "metadata": {
    "collapsed": true
   },
   "outputs": [],
   "source": [
    "PICKLE_DATA_PATH = \"./data/pickles/\"\n",
    "CONDITION_DATA_PATH = \"./data/condition/\"\n",
    "HDF5_PATH = \"./data/data.hdf5\""
   ]
  },
  {
   "cell_type": "code",
   "execution_count": 3,
   "metadata": {
    "collapsed": true
   },
   "outputs": [],
   "source": [
    "def log(s):\n",
    "    with open(\"status_PY04_pdToHdf.txt\", \"a\") as myfile:\n",
    "        myfile.write(\"[\" + str(datetime.now()) + \"] \" + s + \"\\n\")\n",
    "    print(\"[\" + str(datetime.now()) + \"] \" + s)"
   ]
  },
  {
   "cell_type": "code",
   "execution_count": 4,
   "metadata": {
    "collapsed": true
   },
   "outputs": [],
   "source": [
    "def drop_nan_rows(df):\n",
    "    # remove all frames in which no data about the fingernails are available\n",
    "    return df.dropna(subset=[\"Thumb_Fn_X\", \"Index_Fn_X\", \"Middle_Fn_X\", \"Ring_Fn_X\", \"Little_Fn_X\", \"Phone_X\"])"
   ]
  },
  {
   "cell_type": "code",
   "execution_count": 5,
   "metadata": {
    "collapsed": true
   },
   "outputs": [],
   "source": [
    "def errorneous_removal_heuristics(df):\n",
    "    df1 = df[[\"Phone_X_Rotation\", \"Phone_Y_Rotation\", \"Phone_Z_Rotation\", \"Phone_W_Rotation\"]]\n",
    "    x = df1[df1.columns[0]]\n",
    "    y = df1[df1.columns[1]]\n",
    "    z = df1[df1.columns[2]]\n",
    "    w = df1[df1.columns[3]]\n",
    "\n",
    "    rot_matrix = np.array([\n",
    "        [1-2*y*y-2*z*z, 2*x*y+2*w*z, 2*x*z - 2*w*y],\n",
    "        [2*x*y - 2*w*z, 1-2*x*x-2*z*z, 2*y*z+2*w*x],\n",
    "        [2*x*z+2*w*y, 2*y*z-2*w*x, 1-2*x*x-2*y*y]])\n",
    "\n",
    "    angle = np.degrees(np.arccos(np.dot((rot_matrix[:,1,:].T), [0, 1, 0])))\n",
    "    adf = pd.DataFrame(angle)\n",
    "    df2 = adf[np.logical_not(adf[0].isnull())]\n",
    "    df3 = df2[df2[0] < df2[0].mean() + df2[0].std()*4]\n",
    "    dfFinal = df.iloc[df3.index]\n",
    "    \n",
    "    return dfFinal"
   ]
  },
  {
   "cell_type": "code",
   "execution_count": 6,
   "metadata": {
    "collapsed": true
   },
   "outputs": [],
   "source": [
    "def add_to_hdf(hdf, df, set_name):\n",
    "    groupName = set_name\n",
    "    pGroup = None\n",
    "    groupExists = \"/\" + groupName in hdf\n",
    "\n",
    "    if not (groupExists):\n",
    "        pGroup = hdf.create_group(groupName)\n",
    "    else:\n",
    "        pGroup = hdf[\"/\" + groupName]\n",
    "\n",
    "    log(\"P\" + str(i) + \": Drop nan/errorneous rows.\")\n",
    "    df = drop_nan_rows(df)\n",
    "    df = errorneous_removal_heuristics(df)\n",
    "    df = shuffle(df)\n",
    "    \n",
    "    # Get Images\n",
    "    img_vals = df.MatrixMerged.apply(lambda x : x.flatten())\n",
    "    \n",
    "    # remove negative values \n",
    "    img_vals = df.MatrixMerged.apply(lambda x : x.clip(min=0))\n",
    "    \n",
    "    images = np.vstack(img_vals.values)\n",
    "    images = images.reshape([-1, 28, 32, 1])\n",
    "\n",
    "    # get labels\n",
    "    label_vals = np.array(df[[\"Thumb_Fn_X\", \"Thumb_Fn_Y\", \"Thumb_Fn_Z\", \"Index_Fn_X\", \"Index_Fn_Y\", \"Index_Fn_Z\", \"Middle_Fn_X\", \"Middle_Fn_Y\", \"Middle_Fn_Z\", \"Ring_Fn_X\", \"Ring_Fn_Y\", \"Ring_Fn_Z\", \"Little_Fn_X\", \"Little_Fn_Y\", \"Little_Fn_Z\"]])\n",
    "\n",
    "    if not (groupExists):\n",
    "        pGroup.create_dataset(\"images\", data=images, maxshape=(None, 28, 32, 1), chunks=True)  \n",
    "        pGroup.create_dataset(\"labels\", data=label_vals, maxshape=(None, 15), chunks=True)\n",
    "    else:\n",
    "        pGroup[\"images\"].resize((pGroup[\"images\"].shape[0] + images.shape[0]), axis = 0)\n",
    "        pGroup[\"images\"][-images.shape[0]:] = images\n",
    "        pGroup[\"labels\"].resize((pGroup[\"labels\"].shape[0] + label_vals.shape[0]), axis = 0)\n",
    "        pGroup[\"labels\"][-label_vals.shape[0]:] = label_vals        "
   ]
  },
  {
   "cell_type": "markdown",
   "metadata": {},
   "source": [
    "# Creating HDF5 file"
   ]
  },
  {
   "cell_type": "code",
   "execution_count": null,
   "metadata": {
    "collapsed": true
   },
   "outputs": [],
   "source": [
    "if Path(HDF5_PATH).is_file():\n",
    "    print(\"Open storage for appending.\")\n",
    "    hdf = h5py.File(HDF5_PATH, mode='a')\n",
    "else:\n",
    "    print(\"Creating new storage for writing.\")\n",
    "    hdf = h5py.File(HDF5_PATH, mode='w')            \n",
    "        \n",
    "training_participants = [2,3,4,5,6,11,12,13,14,15,16,17,20,21]\n",
    "for i in training_participants:\n",
    "    log(\"P\" + str(i) + \": Reading dataframe for training.\")\n",
    "    df = pd.read_pickle(\"./data/pickles/corrected_data_with_bb_P\" + str(i) + \".pkl\")\n",
    "    \n",
    "    log(\"P\" + str(i) + \": Adding to HDF.\")\n",
    "    add_to_hdf(hdf, df, \"train\")\n",
    "\n",
    "test_participants = [8,9,10,19] # random pick from the list of participants\n",
    "for i in test_participants:\n",
    "    log(\"P\" + str(i) + \": Reading dataframe for test.\")\n",
    "    df = pd.read_pickle(\"./data/pickles/corrected_data_with_bb_P\" + str(i) + \".pkl\")\n",
    "    log(\"P\" + str(i) + \": Adding to HDF.\")\n",
    "    add_to_hdf(hdf, df, \"test\")\n",
    "\n",
    "validation_participants = [18,22] # random pick from the list of participants\n",
    "for i in validation_participants:\n",
    "    log(\"P\" + str(i) + \": Reading dataframe for validation.\")\n",
    "    df = pd.read_pickle(\"./data/pickles/corrected_data_with_bb_P\" + str(i) + \".pkl\")\n",
    "    log(\"P\" + str(i) + \": Adding to HDF.\")\n",
    "    add_to_hdf(hdf, df, \"validation\")\n",
    "    \n",
    "hdf.close()"
   ]
  },
  {
   "cell_type": "code",
   "execution_count": 7,
   "metadata": {
    "collapsed": true
   },
   "outputs": [],
   "source": [
    "hdf = h5py.File(HDF5_PATH, mode='r')"
   ]
  },
  {
   "cell_type": "code",
   "execution_count": 14,
   "metadata": {},
   "outputs": [
    {
     "name": "stdout",
     "output_type": "stream",
     "text": [
      "Training samples: 6402020\n",
      "Test samples: 1962724\n",
      "Validation samples: 1071159\n",
      "Total samples: 9435903\n"
     ]
    }
   ],
   "source": [
    "print(\"Training samples:\", hdf[\"train/images\"].shape[0])\n",
    "print(\"Test samples:\", hdf[\"test/images\"].shape[0])\n",
    "print(\"Validation samples:\", hdf[\"validation/images\"].shape[0])\n",
    "print(\"Total samples:\", hdf[\"train/images\"].shape[0]+hdf[\"test/images\"].shape[0]+hdf[\"validation/images\"].shape[0])"
   ]
  },
  {
   "cell_type": "markdown",
   "metadata": {},
   "source": [
    "# Video preview of capacitive images and OptiTrack Finger Positions"
   ]
  },
  {
   "cell_type": "code",
   "execution_count": 26,
   "metadata": {},
   "outputs": [
    {
     "data": {
      "image/png": "[encoded data removed]",
      "text/plain": [
       "<Figure size 576x432 with 1 Axes>"
      ]
     },
     "metadata": {},
     "output_type": "display_data"
    }
   ],
   "source": [
    "def getContour(img):\n",
    "    contours = measure.find_contours(img, 35)\n",
    "    results = []\n",
    "\n",
    "    for n, contour in enumerate(contours):\n",
    "        if (len(contour) > 5):\n",
    "            results.append([contour[:, 1], contour[:, 0]])\n",
    "\n",
    "    return results\n",
    "\n",
    "finger_name = {\n",
    "        -1: \"-\",\n",
    "        0: \"Thumb\",\n",
    "        1: \"Index\",\n",
    "        2: \"Middle\",\n",
    "        3: \"Ring\",\n",
    "        4: \"Little\"\n",
    "    }\n",
    "\n",
    "def play_frames_with_opti(hdf, start_from):\n",
    "    fig, ax = plt.subplots(1, figsize=(8, 6))\n",
    "    count = start_from\n",
    "    \n",
    "    joints = [\"Thumb_Fn\", \"Index_Fn\", \"Middle_Fn\", \"Ring_Fn\", \"Little_Fn\"]\n",
    "    colors = [\"#00ff00\", \"#e6194b\", \"#ffe119\", \"#f58231\", \"#d2f53c\"]\n",
    "\n",
    "    ax.set_facecolor('black')        \n",
    "    \n",
    "    while count < hdf[\"train/images\"].shape[0]:\n",
    "        image = hdf[\"train/images\"][count].reshape(28, 32)\n",
    "        \n",
    "        display.clear_output(wait=True)\n",
    "        ax.cla()\n",
    "        ax.imshow(image, interpolation=\"none\", cmap=\"gray\", vmin=0, vmax=255)\n",
    "        \n",
    "        ax.set_xlim([-7.5, 38.5])\n",
    "        ax.set_ylim([29.5, -2.5])\n",
    "        \n",
    "        for marker in joints:\n",
    "            x_loc = hdf[\"train/labels\"][count][joints.index(marker) * 3] * 1000\n",
    "            y_loc = hdf[\"train/labels\"][count][joints.index(marker) * 3 + 1] * 1000\n",
    "            x_loc = (15/62) * x_loc + 2  # 62mm screen width\n",
    "            y_loc = (27/110) * y_loc + 2 # 110mm screen height\n",
    "            \n",
    "            # left edge\n",
    "            plt.plot([0.5, 0.5], [-0.5, 27.5], '#DDDDDD', lw=1)\n",
    "            plt.plot([-0.5, -0.5], [-0.5, 27.5], '#DDDDDD', lw=1)\n",
    "            \n",
    "            # right edge\n",
    "            plt.plot([15.5, 15.5], [-0.5, 27.5], '#DDDDDD', lw=1)\n",
    "            plt.plot([16.5, 16.5], [-0.5, 27.5], '#DDDDDD', lw=1)\n",
    "            \n",
    "            # bottom lines\n",
    "            plt.plot([-0.5, 31.5], [26.5, 26.5], '#DDDDDD', lw=1)\n",
    "            plt.plot([-0.5, 31.5], [27.5, 27.5], '#DDDDDD', lw=1)\n",
    "\n",
    "            # front screen right\n",
    "            plt.plot([31.5, 31.5], [-0.5, 27.5], '#DDDDDD', lw=1)    \n",
    "            \n",
    "            # top line\n",
    "            plt.plot([-0.5, 31.5], [-0.5, -0.5], '#DDDDDD', lw=1)\n",
    "            \n",
    "            if (math.isnan(x_loc)):\n",
    "                continue\n",
    "            \n",
    "            contours = getContour(image)\n",
    "\n",
    "            for c in contours:\n",
    "                color = '#ffffff'\n",
    "                xoffset = 0\n",
    "                \n",
    "                if (marker == \"Thumb_Fn\"):\n",
    "                    xoffset = 17\n",
    "                \n",
    "                if (x_loc+xoffset > c[0].min() and x_loc+xoffset < c[0].max()) and (y_loc > c[1].min() and y_loc < c[1].max()):\n",
    "                    color = colors[joints.index(marker)]\n",
    "                    ax.plot(c[0], c[1], color=color, linewidth=2)\n",
    "\n",
    "            ax.scatter(x_loc+xoffset, y_loc, c=colors[joints.index(marker)])\n",
    "            ax.text(round(x_loc+xoffset), round(y_loc - 0.5), marker, color=colors[joints.index(marker)])\n",
    "        \n",
    "        ax.grid(\"off\")\n",
    "        display.display(plt.gcf())\n",
    "        count = count + 15\n",
    "\n",
    "\n",
    "play_frames_with_opti(hdf, 0)  "
   ]
  }
 ],
 "metadata": {
  "kernelspec": {
   "display_name": "Python 3",
   "language": "python",
   "name": "python3"
  },
  "language_info": {
   "codemirror_mode": {
    "name": "ipython",
    "version": 3
   },
   "file_extension": ".py",
   "mimetype": "text/x-python",
   "name": "python",
   "nbconvert_exporter": "python",
   "pygments_lexer": "ipython3",
   "version": "3.6.1"
  }
 },
 "nbformat": 4,
 "nbformat_minor": 2
}
